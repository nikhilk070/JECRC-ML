{
 "cells": [
  {
   "cell_type": "code",
   "execution_count": 1,
   "id": "26bd74ba-2f28-4cfe-a312-51b7c9b0a66b",
   "metadata": {},
   "outputs": [],
   "source": [
    "import pandas as pd\n"
   ]
  },
  {
   "cell_type": "code",
   "execution_count": 2,
   "id": "933a0482-6c9d-4671-98d9-3a651d9d6338",
   "metadata": {},
   "outputs": [],
   "source": [
    "a = [4,5,6,7.8]"
   ]
  },
  {
   "cell_type": "code",
   "execution_count": 3,
   "id": "11626acd-ee98-4914-a5ff-853fb8169a22",
   "metadata": {},
   "outputs": [],
   "source": [
    "b = [i*2 for i in a]"
   ]
  },
  {
   "cell_type": "code",
   "execution_count": 4,
   "id": "1ff5ab37-fe66-487a-9201-d457f72329c8",
   "metadata": {},
   "outputs": [
    {
     "data": {
      "text/plain": [
       "[8, 10, 12, 15.6]"
      ]
     },
     "execution_count": 4,
     "metadata": {},
     "output_type": "execute_result"
    }
   ],
   "source": [
    "b"
   ]
  },
  {
   "cell_type": "code",
   "execution_count": 5,
   "id": "56aeb785-f348-4fb0-8dc2-0ebf2347efcf",
   "metadata": {},
   "outputs": [],
   "source": [
    "# the column name\n",
    "cols = ['user_id','movie_id','rating','ts']"
   ]
  },
  {
   "cell_type": "code",
   "execution_count": 6,
   "id": "ae274d24-502f-4ea1-a38c-2afb426527f5",
   "metadata": {},
   "outputs": [],
   "source": [
    "# read the file\n",
    "df = pd.read_csv('u.data', sep='\\t', names=cols)"
   ]
  },
  {
   "cell_type": "code",
   "execution_count": 7,
   "id": "c27ba3db-9302-4aa1-ad19-1bcfde0deafa",
   "metadata": {},
   "outputs": [
    {
     "ename": "NameError",
     "evalue": "name 'item_cols' is not defined",
     "output_type": "error",
     "traceback": [
      "\u001b[1;31m---------------------------------------------------------------------------\u001b[0m",
      "\u001b[1;31mNameError\u001b[0m                                 Traceback (most recent call last)",
      "Input \u001b[1;32mIn [7]\u001b[0m, in \u001b[0;36m<cell line: 1>\u001b[1;34m()\u001b[0m\n\u001b[1;32m----> 1\u001b[0m df1 \u001b[38;5;241m=\u001b[39m pd\u001b[38;5;241m.\u001b[39mread_csv(\u001b[38;5;124m'\u001b[39m\u001b[38;5;124mu.item\u001b[39m\u001b[38;5;124m'\u001b[39m, sep\u001b[38;5;241m=\u001b[39m\u001b[38;5;124m'\u001b[39m\u001b[38;5;124m|\u001b[39m\u001b[38;5;124m'\u001b[39m, names \u001b[38;5;241m=\u001b[39m \u001b[43mitem_cols\u001b[49m, encoding \u001b[38;5;241m=\u001b[39m \u001b[38;5;124m\"\u001b[39m\u001b[38;5;124mISO-8859-1\u001b[39m\u001b[38;5;124m\"\u001b[39m)[[\u001b[38;5;124m'\u001b[39m\u001b[38;5;124mmovie_id\u001b[39m\u001b[38;5;124m'\u001b[39m,\u001b[38;5;124m\"\u001b[39m\u001b[38;5;124mtitle\u001b[39m\u001b[38;5;124m\"\u001b[39m]]\n",
      "\u001b[1;31mNameError\u001b[0m: name 'item_cols' is not defined"
     ]
    }
   ],
   "source": [
    "df1 = pd.read_csv('u.item', sep='|', names = item_cols, encoding = \"ISO-8859-1\")[['movie_id',\"title\"]]"
   ]
  },
  {
   "cell_type": "code",
   "execution_count": null,
   "id": "6f566fef-812d-4b4a-a546-877f53eea65b",
   "metadata": {},
   "outputs": [],
   "source": [
    "df.head()\n"
   ]
  },
  {
   "cell_type": "code",
   "execution_count": null,
   "id": "07b7197c-6ffe-4d57-8f3c-dd88ed34fc77",
   "metadata": {},
   "outputs": [],
   "source": [
    "df.sample(5)"
   ]
  },
  {
   "cell_type": "code",
   "execution_count": null,
   "id": "cfdd1507-1953-45c8-a37a-15209e50b9d7",
   "metadata": {},
   "outputs": [],
   "source": [
    "df1.head()"
   ]
  },
  {
   "cell_type": "code",
   "execution_count": null,
   "id": "715fafbf-98bb-433c-b704-48885a877573",
   "metadata": {},
   "outputs": [],
   "source": [
    "df.info()"
   ]
  },
  {
   "cell_type": "code",
   "execution_count": null,
   "id": "ffc8b510-a6de-41ee-8275-8532f2a41e68",
   "metadata": {},
   "outputs": [],
   "source": [
    "df.describe(include='all')"
   ]
  },
  {
   "cell_type": "code",
   "execution_count": null,
   "id": "925e91fa-04c5-450b-9c37-90ce654c2f3b",
   "metadata": {},
   "outputs": [],
   "source": [
    "# try to find the different data \n",
    "#1. strings with categorical info \n",
    "#2. strings with random stuff\n",
    "#3. number with qunitified info\n",
    "#4. number with categorial info"
   ]
  },
  {
   "cell_type": "code",
   "execution_count": null,
   "id": "0c394652-2688-4da0-954e-580cc8a5497a",
   "metadata": {},
   "outputs": [],
   "source": [
    "df['rating'].unique()"
   ]
  },
  {
   "cell_type": "code",
   "execution_count": null,
   "id": "8eb9ca3b-b8b2-4be4-8125-66647c271e2e",
   "metadata": {},
   "outputs": [],
   "source": [
    "df['rating'].nunique()"
   ]
  },
  {
   "cell_type": "code",
   "execution_count": null,
   "id": "bc9c0cd6-77ce-44b0-9546-bede869f7bbd",
   "metadata": {},
   "outputs": [],
   "source": [
    "df1.shape"
   ]
  },
  {
   "cell_type": "code",
   "execution_count": null,
   "id": "e0e19137-547a-4422-bae0-c8dda8664898",
   "metadata": {},
   "outputs": [],
   "source": [
    "item_cols = ['movie_id','title'] + [str(i) for i in range(22)]"
   ]
  },
  {
   "cell_type": "code",
   "execution_count": null,
   "id": "dcca777e-7d44-4f30-b809-d4463c467957",
   "metadata": {},
   "outputs": [],
   "source": [
    "item_cols = ['movie_id','title'] + list(range(22))"
   ]
  },
  {
   "cell_type": "code",
   "execution_count": null,
   "id": "6989d44d-b460-49a0-8f77-1a3098408257",
   "metadata": {},
   "outputs": [],
   "source": [
    "df1.sample(3)"
   ]
  },
  {
   "cell_type": "code",
   "execution_count": null,
   "id": "e1a1e5ae-1873-43ac-99eb-c6983d1b17f8",
   "metadata": {},
   "outputs": [],
   "source": [
    "# merging the dataframes"
   ]
  },
  {
   "cell_type": "code",
   "execution_count": null,
   "id": "459dd2b1-a046-4154-9a29-967b65aeaf9c",
   "metadata": {},
   "outputs": [],
   "source": [
    "movie = pd.merge(df,df1, on='movie_id')\n",
    "movie.head()"
   ]
  },
  {
   "cell_type": "code",
   "execution_count": null,
   "id": "98e75caf-8a05-42f3-b804-e190570b31c4",
   "metadata": {},
   "outputs": [],
   "source": [
    "# remove the redundant or useless columns i.e. ts\n",
    "movie.drop('ts', axis=1, inplace=True)"
   ]
  },
  {
   "cell_type": "code",
   "execution_count": null,
   "id": "780a2ceb-4bc0-4aa8-9d7e-757ec2735e58",
   "metadata": {},
   "outputs": [],
   "source": [
    "movie.head()"
   ]
  },
  {
   "cell_type": "code",
   "execution_count": null,
   "id": "34d73e2e-0863-48a7-aa1d-369a37c2efae",
   "metadata": {},
   "outputs": [],
   "source": [
    "# find the number of rating for each movie\n",
    "movie['title'].value_counts().head(10)"
   ]
  },
  {
   "cell_type": "code",
   "execution_count": null,
   "id": "03f05d3e-ff3b-4b0b-8b5e-5c503895169e",
   "metadata": {},
   "outputs": [],
   "source": [
    "# find the average rating for each movies\n",
    "movie.groupby('title')['rating'].mean().sort_values(ascending=False).head(10)"
   ]
  },
  {
   "cell_type": "code",
   "execution_count": null,
   "id": "6b30cd2f-36f5-4960-9f68-5c193ab03fd1",
   "metadata": {},
   "outputs": [],
   "source": [
    "import pandas as pd"
   ]
  },
  {
   "cell_type": "code",
   "execution_count": null,
   "id": "eab0ca51-eb32-4d8c-9bce-cc896eaab2ef",
   "metadata": {},
   "outputs": [],
   "source": [
    "movie_pivot = movie.pivot_table(index = 'user_id', columns = 'title', values = 'rating')\n",
    "movie_pivot.head()"
   ]
  },
  {
   "cell_type": "code",
   "execution_count": null,
   "id": "c4bcfe17-b0ca-4764-9189-d3364a6cd32d",
   "metadata": {},
   "outputs": [],
   "source": [
    "import warnings"
   ]
  },
  {
   "cell_type": "code",
   "execution_count": null,
   "id": "fe53a429-07c2-4f73-a927-f01ed2a4c1f0",
   "metadata": {},
   "outputs": [],
   "source": [
    "warnings.filterwarnings('ignore')"
   ]
  },
  {
   "cell_type": "code",
   "execution_count": null,
   "id": "611a9941-865e-4d1d-ad08-ebbf00b06fc0",
   "metadata": {},
   "outputs": [],
   "source": [
    "corrs_df = pd.DataFrame(corrs, )"
   ]
  },
  {
   "cell_type": "code",
   "execution_count": null,
   "id": "4d663759-ec37-478f-bbb4-f0b0d34da2d6",
   "metadata": {},
   "outputs": [],
   "source": []
  },
  {
   "cell_type": "code",
   "execution_count": null,
   "id": "4efb71f4-e936-4b0d-8507-9b7f49824087",
   "metadata": {},
   "outputs": [],
   "source": []
  }
 ],
 "metadata": {
  "kernelspec": {
   "display_name": "Python 3 (ipykernel)",
   "language": "python",
   "name": "python3"
  },
  "language_info": {
   "codemirror_mode": {
    "name": "ipython",
    "version": 3
   },
   "file_extension": ".py",
   "mimetype": "text/x-python",
   "name": "python",
   "nbconvert_exporter": "python",
   "pygments_lexer": "ipython3",
   "version": "3.9.12"
  }
 },
 "nbformat": 4,
 "nbformat_minor": 5
}
